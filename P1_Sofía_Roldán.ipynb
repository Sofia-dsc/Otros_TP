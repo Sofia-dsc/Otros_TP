{
  "nbformat": 4,
  "nbformat_minor": 0,
  "metadata": {
    "colab": {
      "provenance": [],
      "authorship_tag": "ABX9TyPMsVQSByWuqzlEZscQybod",
      "include_colab_link": true
    },
    "kernelspec": {
      "name": "python3",
      "display_name": "Python 3"
    },
    "language_info": {
      "name": "python"
    }
  },
  "cells": [
    {
      "cell_type": "markdown",
      "metadata": {
        "id": "view-in-github",
        "colab_type": "text"
      },
      "source": [
        "<a href=\"https://colab.research.google.com/github/Sofia-dsc/Otros_TP/blob/main/P1_Sof%C3%ADa_Rold%C3%A1n.ipynb\" target=\"_parent\"><img src=\"https://colab.research.google.com/assets/colab-badge.svg\" alt=\"Open In Colab\"/></a>"
      ]
    },
    {
      "cell_type": "markdown",
      "source": [
        "# **Parcial 1**\n",
        "## **Estadística y exploración de datos**\n",
        "## Alumna: Sofía Roldán Varela"
      ],
      "metadata": {
        "id": "wJmgGQSURHn1"
      }
    },
    {
      "cell_type": "markdown",
      "source": [
        "### 1. Sea una población de 10,000 personas cuyas edades se distribuyen de manera no normal, con una media de 35 años y una desviación estándar de 12 años.\n",
        "### a. Si extraemos muestras aleatorias de 50 personas cada una, ¿cuál será la distribución aproximada de las medias muestrales?\n",
        "### b. ¿Cuál es la probabilidad de que la media de una muestra aleatoria de 50 personas sea menor de 32 años?\n"
      ],
      "metadata": {
        "id": "llv59x0xRbEk"
      }
    },
    {
      "cell_type": "code",
      "source": [
        "# Importo las librerías que vaya a necesitar\n",
        "import pandas as pd\n",
        "import numpy as np"
      ],
      "metadata": {
        "id": "RnMg2casRp93"
      },
      "execution_count": null,
      "outputs": []
    },
    {
      "cell_type": "code",
      "source": [
        "# Defino los parámetros con los datos que nos da el problema\n",
        "n_personas= 10000\n",
        "media_poblacion= 35\n",
        "desviacion_poblacion= 12"
      ],
      "metadata": {
        "id": "V1fhducfSnHj"
      },
      "execution_count": null,
      "outputs": []
    },
    {
      "cell_type": "code",
      "source": [
        "# Para generar datos utilizo log-normal que genera una distribución asimétrica, las edades se distribuyen de manera no normal\n",
        "mu = np.log((media_poblacion**2) / np.sqrt(desviacion_poblacion**2 + media_poblacion**2))\n",
        "sigma = np.sqrt(np.log(1 + (desviacion_poblacion**2 / media_poblacion**2)))\n",
        "\n",
        "# Genero las edades\n",
        "data_edades = np.random.lognormal(mu, sigma, n_personas)\n",
        "data_edades = np.clip(data_edades, 0, None).astype(int)"
      ],
      "metadata": {
        "id": "0y5IeZMgS3Bx"
      },
      "execution_count": null,
      "outputs": []
    },
    {
      "cell_type": "code",
      "source": [
        "# Creo un dataframe para visualizar los datos\n",
        "df_edades = pd.DataFrame(data_edades, columns=['Edad'])"
      ],
      "metadata": {
        "id": "hRpJq5RCVmIq"
      },
      "execution_count": null,
      "outputs": []
    },
    {
      "cell_type": "code",
      "source": [
        "df_edades"
      ],
      "metadata": {
        "colab": {
          "base_uri": "https://localhost:8080/",
          "height": 424
        },
        "id": "r9W4E1qEVwvj",
        "outputId": "a0c0db5c-033b-48f4-d7f7-ed0c9bc1d85d"
      },
      "execution_count": null,
      "outputs": [
        {
          "output_type": "execute_result",
          "data": {
            "text/plain": [
              "      Edad\n",
              "0       19\n",
              "1       35\n",
              "2       54\n",
              "3       47\n",
              "4       44\n",
              "...    ...\n",
              "9995    50\n",
              "9996    37\n",
              "9997    37\n",
              "9998    34\n",
              "9999    44\n",
              "\n",
              "[10000 rows x 1 columns]"
            ],
            "text/html": [
              "\n",
              "  <div id=\"df-a874de32-b2c2-456b-8043-b46f75f2182e\" class=\"colab-df-container\">\n",
              "    <div>\n",
              "<style scoped>\n",
              "    .dataframe tbody tr th:only-of-type {\n",
              "        vertical-align: middle;\n",
              "    }\n",
              "\n",
              "    .dataframe tbody tr th {\n",
              "        vertical-align: top;\n",
              "    }\n",
              "\n",
              "    .dataframe thead th {\n",
              "        text-align: right;\n",
              "    }\n",
              "</style>\n",
              "<table border=\"1\" class=\"dataframe\">\n",
              "  <thead>\n",
              "    <tr style=\"text-align: right;\">\n",
              "      <th></th>\n",
              "      <th>Edad</th>\n",
              "    </tr>\n",
              "  </thead>\n",
              "  <tbody>\n",
              "    <tr>\n",
              "      <th>0</th>\n",
              "      <td>19</td>\n",
              "    </tr>\n",
              "    <tr>\n",
              "      <th>1</th>\n",
              "      <td>35</td>\n",
              "    </tr>\n",
              "    <tr>\n",
              "      <th>2</th>\n",
              "      <td>54</td>\n",
              "    </tr>\n",
              "    <tr>\n",
              "      <th>3</th>\n",
              "      <td>47</td>\n",
              "    </tr>\n",
              "    <tr>\n",
              "      <th>4</th>\n",
              "      <td>44</td>\n",
              "    </tr>\n",
              "    <tr>\n",
              "      <th>...</th>\n",
              "      <td>...</td>\n",
              "    </tr>\n",
              "    <tr>\n",
              "      <th>9995</th>\n",
              "      <td>50</td>\n",
              "    </tr>\n",
              "    <tr>\n",
              "      <th>9996</th>\n",
              "      <td>37</td>\n",
              "    </tr>\n",
              "    <tr>\n",
              "      <th>9997</th>\n",
              "      <td>37</td>\n",
              "    </tr>\n",
              "    <tr>\n",
              "      <th>9998</th>\n",
              "      <td>34</td>\n",
              "    </tr>\n",
              "    <tr>\n",
              "      <th>9999</th>\n",
              "      <td>44</td>\n",
              "    </tr>\n",
              "  </tbody>\n",
              "</table>\n",
              "<p>10000 rows × 1 columns</p>\n",
              "</div>\n",
              "    <div class=\"colab-df-buttons\">\n",
              "\n",
              "  <div class=\"colab-df-container\">\n",
              "    <button class=\"colab-df-convert\" onclick=\"convertToInteractive('df-a874de32-b2c2-456b-8043-b46f75f2182e')\"\n",
              "            title=\"Convert this dataframe to an interactive table.\"\n",
              "            style=\"display:none;\">\n",
              "\n",
              "  <svg xmlns=\"http://www.w3.org/2000/svg\" height=\"24px\" viewBox=\"0 -960 960 960\">\n",
              "    <path d=\"M120-120v-720h720v720H120Zm60-500h600v-160H180v160Zm220 220h160v-160H400v160Zm0 220h160v-160H400v160ZM180-400h160v-160H180v160Zm440 0h160v-160H620v160ZM180-180h160v-160H180v160Zm440 0h160v-160H620v160Z\"/>\n",
              "  </svg>\n",
              "    </button>\n",
              "\n",
              "  <style>\n",
              "    .colab-df-container {\n",
              "      display:flex;\n",
              "      gap: 12px;\n",
              "    }\n",
              "\n",
              "    .colab-df-convert {\n",
              "      background-color: #E8F0FE;\n",
              "      border: none;\n",
              "      border-radius: 50%;\n",
              "      cursor: pointer;\n",
              "      display: none;\n",
              "      fill: #1967D2;\n",
              "      height: 32px;\n",
              "      padding: 0 0 0 0;\n",
              "      width: 32px;\n",
              "    }\n",
              "\n",
              "    .colab-df-convert:hover {\n",
              "      background-color: #E2EBFA;\n",
              "      box-shadow: 0px 1px 2px rgba(60, 64, 67, 0.3), 0px 1px 3px 1px rgba(60, 64, 67, 0.15);\n",
              "      fill: #174EA6;\n",
              "    }\n",
              "\n",
              "    .colab-df-buttons div {\n",
              "      margin-bottom: 4px;\n",
              "    }\n",
              "\n",
              "    [theme=dark] .colab-df-convert {\n",
              "      background-color: #3B4455;\n",
              "      fill: #D2E3FC;\n",
              "    }\n",
              "\n",
              "    [theme=dark] .colab-df-convert:hover {\n",
              "      background-color: #434B5C;\n",
              "      box-shadow: 0px 1px 3px 1px rgba(0, 0, 0, 0.15);\n",
              "      filter: drop-shadow(0px 1px 2px rgba(0, 0, 0, 0.3));\n",
              "      fill: #FFFFFF;\n",
              "    }\n",
              "  </style>\n",
              "\n",
              "    <script>\n",
              "      const buttonEl =\n",
              "        document.querySelector('#df-a874de32-b2c2-456b-8043-b46f75f2182e button.colab-df-convert');\n",
              "      buttonEl.style.display =\n",
              "        google.colab.kernel.accessAllowed ? 'block' : 'none';\n",
              "\n",
              "      async function convertToInteractive(key) {\n",
              "        const element = document.querySelector('#df-a874de32-b2c2-456b-8043-b46f75f2182e');\n",
              "        const dataTable =\n",
              "          await google.colab.kernel.invokeFunction('convertToInteractive',\n",
              "                                                    [key], {});\n",
              "        if (!dataTable) return;\n",
              "\n",
              "        const docLinkHtml = 'Like what you see? Visit the ' +\n",
              "          '<a target=\"_blank\" href=https://colab.research.google.com/notebooks/data_table.ipynb>data table notebook</a>'\n",
              "          + ' to learn more about interactive tables.';\n",
              "        element.innerHTML = '';\n",
              "        dataTable['output_type'] = 'display_data';\n",
              "        await google.colab.output.renderOutput(dataTable, element);\n",
              "        const docLink = document.createElement('div');\n",
              "        docLink.innerHTML = docLinkHtml;\n",
              "        element.appendChild(docLink);\n",
              "      }\n",
              "    </script>\n",
              "  </div>\n",
              "\n",
              "\n",
              "<div id=\"df-4e3cfe37-cb7f-4ac5-a0a7-aa5ef7f06cc2\">\n",
              "  <button class=\"colab-df-quickchart\" onclick=\"quickchart('df-4e3cfe37-cb7f-4ac5-a0a7-aa5ef7f06cc2')\"\n",
              "            title=\"Suggest charts\"\n",
              "            style=\"display:none;\">\n",
              "\n",
              "<svg xmlns=\"http://www.w3.org/2000/svg\" height=\"24px\"viewBox=\"0 0 24 24\"\n",
              "     width=\"24px\">\n",
              "    <g>\n",
              "        <path d=\"M19 3H5c-1.1 0-2 .9-2 2v14c0 1.1.9 2 2 2h14c1.1 0 2-.9 2-2V5c0-1.1-.9-2-2-2zM9 17H7v-7h2v7zm4 0h-2V7h2v10zm4 0h-2v-4h2v4z\"/>\n",
              "    </g>\n",
              "</svg>\n",
              "  </button>\n",
              "\n",
              "<style>\n",
              "  .colab-df-quickchart {\n",
              "      --bg-color: #E8F0FE;\n",
              "      --fill-color: #1967D2;\n",
              "      --hover-bg-color: #E2EBFA;\n",
              "      --hover-fill-color: #174EA6;\n",
              "      --disabled-fill-color: #AAA;\n",
              "      --disabled-bg-color: #DDD;\n",
              "  }\n",
              "\n",
              "  [theme=dark] .colab-df-quickchart {\n",
              "      --bg-color: #3B4455;\n",
              "      --fill-color: #D2E3FC;\n",
              "      --hover-bg-color: #434B5C;\n",
              "      --hover-fill-color: #FFFFFF;\n",
              "      --disabled-bg-color: #3B4455;\n",
              "      --disabled-fill-color: #666;\n",
              "  }\n",
              "\n",
              "  .colab-df-quickchart {\n",
              "    background-color: var(--bg-color);\n",
              "    border: none;\n",
              "    border-radius: 50%;\n",
              "    cursor: pointer;\n",
              "    display: none;\n",
              "    fill: var(--fill-color);\n",
              "    height: 32px;\n",
              "    padding: 0;\n",
              "    width: 32px;\n",
              "  }\n",
              "\n",
              "  .colab-df-quickchart:hover {\n",
              "    background-color: var(--hover-bg-color);\n",
              "    box-shadow: 0 1px 2px rgba(60, 64, 67, 0.3), 0 1px 3px 1px rgba(60, 64, 67, 0.15);\n",
              "    fill: var(--button-hover-fill-color);\n",
              "  }\n",
              "\n",
              "  .colab-df-quickchart-complete:disabled,\n",
              "  .colab-df-quickchart-complete:disabled:hover {\n",
              "    background-color: var(--disabled-bg-color);\n",
              "    fill: var(--disabled-fill-color);\n",
              "    box-shadow: none;\n",
              "  }\n",
              "\n",
              "  .colab-df-spinner {\n",
              "    border: 2px solid var(--fill-color);\n",
              "    border-color: transparent;\n",
              "    border-bottom-color: var(--fill-color);\n",
              "    animation:\n",
              "      spin 1s steps(1) infinite;\n",
              "  }\n",
              "\n",
              "  @keyframes spin {\n",
              "    0% {\n",
              "      border-color: transparent;\n",
              "      border-bottom-color: var(--fill-color);\n",
              "      border-left-color: var(--fill-color);\n",
              "    }\n",
              "    20% {\n",
              "      border-color: transparent;\n",
              "      border-left-color: var(--fill-color);\n",
              "      border-top-color: var(--fill-color);\n",
              "    }\n",
              "    30% {\n",
              "      border-color: transparent;\n",
              "      border-left-color: var(--fill-color);\n",
              "      border-top-color: var(--fill-color);\n",
              "      border-right-color: var(--fill-color);\n",
              "    }\n",
              "    40% {\n",
              "      border-color: transparent;\n",
              "      border-right-color: var(--fill-color);\n",
              "      border-top-color: var(--fill-color);\n",
              "    }\n",
              "    60% {\n",
              "      border-color: transparent;\n",
              "      border-right-color: var(--fill-color);\n",
              "    }\n",
              "    80% {\n",
              "      border-color: transparent;\n",
              "      border-right-color: var(--fill-color);\n",
              "      border-bottom-color: var(--fill-color);\n",
              "    }\n",
              "    90% {\n",
              "      border-color: transparent;\n",
              "      border-bottom-color: var(--fill-color);\n",
              "    }\n",
              "  }\n",
              "</style>\n",
              "\n",
              "  <script>\n",
              "    async function quickchart(key) {\n",
              "      const quickchartButtonEl =\n",
              "        document.querySelector('#' + key + ' button');\n",
              "      quickchartButtonEl.disabled = true;  // To prevent multiple clicks.\n",
              "      quickchartButtonEl.classList.add('colab-df-spinner');\n",
              "      try {\n",
              "        const charts = await google.colab.kernel.invokeFunction(\n",
              "            'suggestCharts', [key], {});\n",
              "      } catch (error) {\n",
              "        console.error('Error during call to suggestCharts:', error);\n",
              "      }\n",
              "      quickchartButtonEl.classList.remove('colab-df-spinner');\n",
              "      quickchartButtonEl.classList.add('colab-df-quickchart-complete');\n",
              "    }\n",
              "    (() => {\n",
              "      let quickchartButtonEl =\n",
              "        document.querySelector('#df-4e3cfe37-cb7f-4ac5-a0a7-aa5ef7f06cc2 button');\n",
              "      quickchartButtonEl.style.display =\n",
              "        google.colab.kernel.accessAllowed ? 'block' : 'none';\n",
              "    })();\n",
              "  </script>\n",
              "</div>\n",
              "\n",
              "  <div id=\"id_3af3cac6-2997-4157-8e8c-87ab95b2a321\">\n",
              "    <style>\n",
              "      .colab-df-generate {\n",
              "        background-color: #E8F0FE;\n",
              "        border: none;\n",
              "        border-radius: 50%;\n",
              "        cursor: pointer;\n",
              "        display: none;\n",
              "        fill: #1967D2;\n",
              "        height: 32px;\n",
              "        padding: 0 0 0 0;\n",
              "        width: 32px;\n",
              "      }\n",
              "\n",
              "      .colab-df-generate:hover {\n",
              "        background-color: #E2EBFA;\n",
              "        box-shadow: 0px 1px 2px rgba(60, 64, 67, 0.3), 0px 1px 3px 1px rgba(60, 64, 67, 0.15);\n",
              "        fill: #174EA6;\n",
              "      }\n",
              "\n",
              "      [theme=dark] .colab-df-generate {\n",
              "        background-color: #3B4455;\n",
              "        fill: #D2E3FC;\n",
              "      }\n",
              "\n",
              "      [theme=dark] .colab-df-generate:hover {\n",
              "        background-color: #434B5C;\n",
              "        box-shadow: 0px 1px 3px 1px rgba(0, 0, 0, 0.15);\n",
              "        filter: drop-shadow(0px 1px 2px rgba(0, 0, 0, 0.3));\n",
              "        fill: #FFFFFF;\n",
              "      }\n",
              "    </style>\n",
              "    <button class=\"colab-df-generate\" onclick=\"generateWithVariable('df_edades')\"\n",
              "            title=\"Generate code using this dataframe.\"\n",
              "            style=\"display:none;\">\n",
              "\n",
              "  <svg xmlns=\"http://www.w3.org/2000/svg\" height=\"24px\"viewBox=\"0 0 24 24\"\n",
              "       width=\"24px\">\n",
              "    <path d=\"M7,19H8.4L18.45,9,17,7.55,7,17.6ZM5,21V16.75L18.45,3.32a2,2,0,0,1,2.83,0l1.4,1.43a1.91,1.91,0,0,1,.58,1.4,1.91,1.91,0,0,1-.58,1.4L9.25,21ZM18.45,9,17,7.55Zm-12,3A5.31,5.31,0,0,0,4.9,8.1,5.31,5.31,0,0,0,1,6.5,5.31,5.31,0,0,0,4.9,4.9,5.31,5.31,0,0,0,6.5,1,5.31,5.31,0,0,0,8.1,4.9,5.31,5.31,0,0,0,12,6.5,5.46,5.46,0,0,0,6.5,12Z\"/>\n",
              "  </svg>\n",
              "    </button>\n",
              "    <script>\n",
              "      (() => {\n",
              "      const buttonEl =\n",
              "        document.querySelector('#id_3af3cac6-2997-4157-8e8c-87ab95b2a321 button.colab-df-generate');\n",
              "      buttonEl.style.display =\n",
              "        google.colab.kernel.accessAllowed ? 'block' : 'none';\n",
              "\n",
              "      buttonEl.onclick = () => {\n",
              "        google.colab.notebook.generateWithVariable('df_edades');\n",
              "      }\n",
              "      })();\n",
              "    </script>\n",
              "  </div>\n",
              "\n",
              "    </div>\n",
              "  </div>\n"
            ],
            "application/vnd.google.colaboratory.intrinsic+json": {
              "type": "dataframe",
              "variable_name": "df_edades",
              "summary": "{\n  \"name\": \"df_edades\",\n  \"rows\": 10000,\n  \"fields\": [\n    {\n      \"column\": \"Edad\",\n      \"properties\": {\n        \"dtype\": \"number\",\n        \"std\": 12,\n        \"min\": 8,\n        \"max\": 121,\n        \"num_unique_values\": 92,\n        \"samples\": [\n          14,\n          51,\n          13\n        ],\n        \"semantic_type\": \"\",\n        \"description\": \"\"\n      }\n    }\n  ]\n}"
            }
          },
          "metadata": {},
          "execution_count": 9
        }
      ]
    },
    {
      "cell_type": "markdown",
      "source": [
        "# a)"
      ],
      "metadata": {
        "id": "1uvUJBv7XQCz"
      }
    },
    {
      "cell_type": "code",
      "source": [
        "## Primero comienzo calculando la desviación estandard de las medias muestrales\n",
        "# Defino parámetros\n",
        "n_muestra = 50  # Tamaño de la muestra\n",
        "num_muestras = 500\n",
        "desviacion_estandar = 12  # De la población"
      ],
      "metadata": {
        "id": "bdMUFDi8XSeB"
      },
      "execution_count": null,
      "outputs": []
    },
    {
      "cell_type": "code",
      "source": [
        "desv_estandar = desviacion_estandar / np.sqrt(n_muestra)\n",
        "print(\"Error estándar:\", desv_estandar)"
      ],
      "metadata": {
        "colab": {
          "base_uri": "https://localhost:8080/"
        },
        "id": "PgbcyMv1X79h",
        "outputId": "71fa27f3-3e9f-4142-8755-946fcfe5c2fd"
      },
      "execution_count": null,
      "outputs": [
        {
          "output_type": "stream",
          "name": "stdout",
          "text": [
            "Error estándar: 1.697056274847714\n"
          ]
        }
      ]
    },
    {
      "cell_type": "code",
      "source": [
        "# Almaceno las medias\n",
        "medias_muestrales = []\n",
        "for _ in range(num_muestras):\n",
        "    muestra = np.random.choice(data_edades, size=n_muestra)\n",
        "    medias_muestrales.append(np.mean(muestra))\n"
      ],
      "metadata": {
        "id": "QTo3foEPYUsP"
      },
      "execution_count": null,
      "outputs": []
    },
    {
      "cell_type": "code",
      "source": [
        "medias_muestrales"
      ],
      "metadata": {
        "colab": {
          "base_uri": "https://localhost:8080/"
        },
        "collapsed": true,
        "id": "nE6OVznNZNlb",
        "outputId": "b0b1953d-a251-4e6b-8861-012848ace16f"
      },
      "execution_count": null,
      "outputs": [
        {
          "output_type": "execute_result",
          "data": {
            "text/plain": [
              "[33.26,\n",
              " 34.88,\n",
              " 33.0,\n",
              " 35.58,\n",
              " 34.96,\n",
              " 34.64,\n",
              " 36.96,\n",
              " 32.92,\n",
              " 36.52,\n",
              " 33.66,\n",
              " 36.6,\n",
              " 33.98,\n",
              " 31.66,\n",
              " 34.76,\n",
              " 34.64,\n",
              " 33.74,\n",
              " 33.36,\n",
              " 33.58,\n",
              " 35.02,\n",
              " 32.66,\n",
              " 36.96,\n",
              " 33.92,\n",
              " 33.34,\n",
              " 38.24,\n",
              " 33.06,\n",
              " 33.42,\n",
              " 34.38,\n",
              " 34.42,\n",
              " 35.36,\n",
              " 36.16,\n",
              " 35.98,\n",
              " 37.16,\n",
              " 34.14,\n",
              " 34.26,\n",
              " 35.56,\n",
              " 32.76,\n",
              " 35.42,\n",
              " 34.44,\n",
              " 32.72,\n",
              " 33.92,\n",
              " 35.34,\n",
              " 35.56,\n",
              " 36.56,\n",
              " 33.34,\n",
              " 35.3,\n",
              " 35.32,\n",
              " 31.4,\n",
              " 33.74,\n",
              " 33.54,\n",
              " 34.26,\n",
              " 35.54,\n",
              " 34.2,\n",
              " 32.36,\n",
              " 32.84,\n",
              " 37.76,\n",
              " 31.88,\n",
              " 32.74,\n",
              " 33.94,\n",
              " 34.62,\n",
              " 34.72,\n",
              " 34.42,\n",
              " 35.94,\n",
              " 35.16,\n",
              " 36.14,\n",
              " 34.68,\n",
              " 34.9,\n",
              " 35.52,\n",
              " 33.14,\n",
              " 35.3,\n",
              " 32.74,\n",
              " 33.36,\n",
              " 35.36,\n",
              " 39.32,\n",
              " 34.02,\n",
              " 34.98,\n",
              " 35.34,\n",
              " 31.74,\n",
              " 32.78,\n",
              " 35.48,\n",
              " 34.56,\n",
              " 33.16,\n",
              " 33.4,\n",
              " 34.78,\n",
              " 33.34,\n",
              " 34.48,\n",
              " 37.44,\n",
              " 34.16,\n",
              " 35.38,\n",
              " 34.66,\n",
              " 35.4,\n",
              " 35.46,\n",
              " 36.3,\n",
              " 33.38,\n",
              " 32.68,\n",
              " 32.52,\n",
              " 33.22,\n",
              " 33.58,\n",
              " 36.36,\n",
              " 39.18,\n",
              " 34.76,\n",
              " 36.06,\n",
              " 34.2,\n",
              " 32.72,\n",
              " 33.98,\n",
              " 35.3,\n",
              " 35.62,\n",
              " 37.08,\n",
              " 38.88,\n",
              " 33.92,\n",
              " 33.68,\n",
              " 37.02,\n",
              " 32.46,\n",
              " 31.08,\n",
              " 34.72,\n",
              " 33.4,\n",
              " 34.58,\n",
              " 34.18,\n",
              " 34.94,\n",
              " 32.5,\n",
              " 32.64,\n",
              " 38.06,\n",
              " 32.1,\n",
              " 34.48,\n",
              " 34.42,\n",
              " 35.08,\n",
              " 34.6,\n",
              " 36.4,\n",
              " 32.0,\n",
              " 34.36,\n",
              " 35.94,\n",
              " 32.7,\n",
              " 32.26,\n",
              " 34.36,\n",
              " 33.06,\n",
              " 35.68,\n",
              " 34.2,\n",
              " 35.22,\n",
              " 34.96,\n",
              " 32.44,\n",
              " 36.16,\n",
              " 33.68,\n",
              " 34.98,\n",
              " 34.54,\n",
              " 36.2,\n",
              " 34.36,\n",
              " 36.0,\n",
              " 33.86,\n",
              " 35.1,\n",
              " 32.92,\n",
              " 35.34,\n",
              " 36.08,\n",
              " 32.3,\n",
              " 33.36,\n",
              " 33.32,\n",
              " 37.24,\n",
              " 35.44,\n",
              " 34.98,\n",
              " 35.56,\n",
              " 35.6,\n",
              " 33.44,\n",
              " 35.44,\n",
              " 33.86,\n",
              " 37.3,\n",
              " 34.24,\n",
              " 36.0,\n",
              " 34.18,\n",
              " 36.48,\n",
              " 33.28,\n",
              " 34.94,\n",
              " 33.44,\n",
              " 31.94,\n",
              " 31.38,\n",
              " 36.8,\n",
              " 35.0,\n",
              " 38.24,\n",
              " 36.1,\n",
              " 34.08,\n",
              " 32.56,\n",
              " 34.48,\n",
              " 33.96,\n",
              " 34.3,\n",
              " 32.54,\n",
              " 34.3,\n",
              " 33.8,\n",
              " 34.32,\n",
              " 38.24,\n",
              " 35.92,\n",
              " 32.68,\n",
              " 36.14,\n",
              " 34.42,\n",
              " 37.28,\n",
              " 34.04,\n",
              " 32.06,\n",
              " 30.74,\n",
              " 35.28,\n",
              " 35.1,\n",
              " 34.22,\n",
              " 32.24,\n",
              " 32.18,\n",
              " 35.62,\n",
              " 35.9,\n",
              " 31.02,\n",
              " 33.34,\n",
              " 34.4,\n",
              " 34.96,\n",
              " 33.16,\n",
              " 32.18,\n",
              " 34.02,\n",
              " 35.08,\n",
              " 35.94,\n",
              " 35.4,\n",
              " 34.98,\n",
              " 37.22,\n",
              " 35.2,\n",
              " 32.4,\n",
              " 36.84,\n",
              " 35.82,\n",
              " 33.52,\n",
              " 36.62,\n",
              " 35.4,\n",
              " 32.56,\n",
              " 35.32,\n",
              " 34.6,\n",
              " 36.16,\n",
              " 34.08,\n",
              " 34.22,\n",
              " 33.58,\n",
              " 31.24,\n",
              " 40.18,\n",
              " 33.84,\n",
              " 32.08,\n",
              " 35.24,\n",
              " 31.76,\n",
              " 34.66,\n",
              " 33.68,\n",
              " 33.22,\n",
              " 34.5,\n",
              " 35.84,\n",
              " 35.22,\n",
              " 32.98,\n",
              " 38.4,\n",
              " 35.3,\n",
              " 37.3,\n",
              " 33.88,\n",
              " 34.8,\n",
              " 35.64,\n",
              " 34.12,\n",
              " 35.12,\n",
              " 35.46,\n",
              " 32.48,\n",
              " 36.7,\n",
              " 34.34,\n",
              " 34.66,\n",
              " 34.88,\n",
              " 36.44,\n",
              " 33.66,\n",
              " 35.04,\n",
              " 36.68,\n",
              " 32.02,\n",
              " 34.34,\n",
              " 36.72,\n",
              " 32.38,\n",
              " 32.78,\n",
              " 31.82,\n",
              " 35.62,\n",
              " 32.18,\n",
              " 33.08,\n",
              " 34.64,\n",
              " 34.76,\n",
              " 37.24,\n",
              " 34.7,\n",
              " 33.54,\n",
              " 33.74,\n",
              " 34.26,\n",
              " 34.72,\n",
              " 36.2,\n",
              " 35.7,\n",
              " 31.16,\n",
              " 37.74,\n",
              " 35.56,\n",
              " 37.36,\n",
              " 30.76,\n",
              " 40.4,\n",
              " 32.66,\n",
              " 34.3,\n",
              " 34.28,\n",
              " 32.28,\n",
              " 33.46,\n",
              " 33.42,\n",
              " 33.96,\n",
              " 34.88,\n",
              " 30.54,\n",
              " 35.52,\n",
              " 34.88,\n",
              " 35.64,\n",
              " 34.5,\n",
              " 33.4,\n",
              " 35.4,\n",
              " 34.4,\n",
              " 32.66,\n",
              " 33.88,\n",
              " 36.2,\n",
              " 36.82,\n",
              " 33.56,\n",
              " 34.18,\n",
              " 35.36,\n",
              " 36.9,\n",
              " 34.44,\n",
              " 36.12,\n",
              " 33.96,\n",
              " 33.22,\n",
              " 32.66,\n",
              " 30.46,\n",
              " 35.92,\n",
              " 35.7,\n",
              " 34.86,\n",
              " 35.6,\n",
              " 33.12,\n",
              " 35.92,\n",
              " 32.68,\n",
              " 33.28,\n",
              " 32.1,\n",
              " 35.24,\n",
              " 36.38,\n",
              " 35.46,\n",
              " 35.12,\n",
              " 35.52,\n",
              " 32.04,\n",
              " 35.12,\n",
              " 34.98,\n",
              " 34.74,\n",
              " 33.2,\n",
              " 36.82,\n",
              " 34.34,\n",
              " 32.74,\n",
              " 38.36,\n",
              " 32.54,\n",
              " 35.14,\n",
              " 33.2,\n",
              " 36.0,\n",
              " 37.48,\n",
              " 33.08,\n",
              " 34.6,\n",
              " 28.84,\n",
              " 32.78,\n",
              " 31.82,\n",
              " 31.94,\n",
              " 35.84,\n",
              " 33.24,\n",
              " 36.06,\n",
              " 31.78,\n",
              " 33.36,\n",
              " 33.06,\n",
              " 35.82,\n",
              " 33.7,\n",
              " 32.14,\n",
              " 37.96,\n",
              " 33.88,\n",
              " 33.7,\n",
              " 32.6,\n",
              " 34.32,\n",
              " 35.04,\n",
              " 34.38,\n",
              " 33.52,\n",
              " 35.06,\n",
              " 35.14,\n",
              " 33.78,\n",
              " 35.88,\n",
              " 34.2,\n",
              " 33.32,\n",
              " 33.32,\n",
              " 36.12,\n",
              " 32.38,\n",
              " 35.86,\n",
              " 35.82,\n",
              " 33.96,\n",
              " 36.72,\n",
              " 37.96,\n",
              " 35.02,\n",
              " 34.42,\n",
              " 37.34,\n",
              " 33.58,\n",
              " 34.2,\n",
              " 34.38,\n",
              " 33.56,\n",
              " 35.34,\n",
              " 34.42,\n",
              " 35.6,\n",
              " 38.32,\n",
              " 34.66,\n",
              " 31.7,\n",
              " 36.82,\n",
              " 34.66,\n",
              " 32.74,\n",
              " 35.6,\n",
              " 32.38,\n",
              " 32.3,\n",
              " 33.02,\n",
              " 33.36,\n",
              " 33.9,\n",
              " 33.34,\n",
              " 36.58,\n",
              " 34.88,\n",
              " 34.9,\n",
              " 35.78,\n",
              " 32.44,\n",
              " 35.26,\n",
              " 33.2,\n",
              " 31.98,\n",
              " 33.8,\n",
              " 33.34,\n",
              " 33.08,\n",
              " 35.98,\n",
              " 35.26,\n",
              " 33.58,\n",
              " 35.06,\n",
              " 33.8,\n",
              " 33.84,\n",
              " 32.62,\n",
              " 36.54,\n",
              " 33.62,\n",
              " 32.58,\n",
              " 31.88,\n",
              " 33.06,\n",
              " 34.06,\n",
              " 33.38,\n",
              " 35.7,\n",
              " 34.58,\n",
              " 33.54,\n",
              " 35.54,\n",
              " 34.4,\n",
              " 38.18,\n",
              " 36.76,\n",
              " 33.28,\n",
              " 34.62,\n",
              " 34.32,\n",
              " 34.32,\n",
              " 35.62,\n",
              " 36.6,\n",
              " 36.36,\n",
              " 34.72,\n",
              " 33.72,\n",
              " 32.98,\n",
              " 34.74,\n",
              " 34.64,\n",
              " 33.02,\n",
              " 34.48,\n",
              " 35.48,\n",
              " 35.14,\n",
              " 37.32,\n",
              " 36.32,\n",
              " 34.38,\n",
              " 34.42,\n",
              " 37.42,\n",
              " 33.92,\n",
              " 34.48,\n",
              " 34.68,\n",
              " 35.08,\n",
              " 35.64,\n",
              " 34.74,\n",
              " 33.48,\n",
              " 34.64,\n",
              " 36.42,\n",
              " 34.16,\n",
              " 34.06,\n",
              " 35.86,\n",
              " 34.1,\n",
              " 33.48,\n",
              " 36.06,\n",
              " 34.88,\n",
              " 30.88,\n",
              " 34.96,\n",
              " 34.74,\n",
              " 37.54,\n",
              " 32.36,\n",
              " 35.18,\n",
              " 35.54,\n",
              " 35.4,\n",
              " 37.34,\n",
              " 34.52,\n",
              " 32.58,\n",
              " 31.24,\n",
              " 33.18,\n",
              " 32.62,\n",
              " 34.5,\n",
              " 34.74,\n",
              " 33.04,\n",
              " 35.36,\n",
              " 33.98,\n",
              " 33.9,\n",
              " 36.42,\n",
              " 31.64,\n",
              " 35.74,\n",
              " 30.66,\n",
              " 34.14,\n",
              " 35.18,\n",
              " 37.0,\n",
              " 36.86,\n",
              " 33.92,\n",
              " 36.0]"
            ]
          },
          "metadata": {},
          "execution_count": 24
        }
      ]
    },
    {
      "cell_type": "code",
      "source": [
        "# Grafico para visualizar la distribución aproximada de las medias\n",
        "import matplotlib.pyplot as plt\n",
        "\n",
        "plt.hist(medias_muestrales, bins=30, alpha=0.7, color='black', density=True)\n",
        "plt.title('Distribución de las Medias Muestrales')\n",
        "plt.xlabel('Media Muestral')\n",
        "plt.ylabel('Densidad')\n",
        "plt.grid()\n",
        "plt.show()"
      ],
      "metadata": {
        "colab": {
          "base_uri": "https://localhost:8080/",
          "height": 472
        },
        "id": "4HgtrUDaZ1PU",
        "outputId": "b600039a-771a-4392-be62-ee38d28de8bb"
      },
      "execution_count": null,
      "outputs": [
        {
          "output_type": "display_data",
          "data": {
            "text/plain": [
              "<Figure size 640x480 with 1 Axes>"
            ],
            "image/png": "[encoded data removed]"
          },
          "metadata": {}
        }
      ]
    },
    {
      "cell_type": "markdown",
      "source": [
        " ## --> Según el Teorema del Límite Central la distribución de las medias muestrales tiende a ser normal a medida que el tamaño de la muestra aumenta (en este caso 50)."
      ],
      "metadata": {
        "id": "RBqCp9sXan5x"
      }
    },
    {
      "cell_type": "markdown",
      "source": [
        "# b)"
      ],
      "metadata": {
        "id": "GeqoNqPwbVZm"
      }
    },
    {
      "cell_type": "code",
      "source": [
        "from scipy.stats import norm #función de distribución acumulativa de la distribución normal para encontrar la probabilidad"
      ],
      "metadata": {
        "id": "QAWt70MRa7Ji"
      },
      "execution_count": null,
      "outputs": []
    },
    {
      "cell_type": "code",
      "source": [
        "# Defino parámetros\n",
        "media_poblacion= 35\n",
        "desviacion_poblacion= 12\n",
        "n_muestra = 50"
      ],
      "metadata": {
        "id": "oq3Q2eb_bhrN"
      },
      "execution_count": null,
      "outputs": []
    },
    {
      "cell_type": "code",
      "source": [
        "# Calculo desviación estandar\n",
        "desv_estandar = desviacion_poblacion / np.sqrt(n_muestra)"
      ],
      "metadata": {
        "id": "IOHoNMQ7b1QY"
      },
      "execution_count": null,
      "outputs": []
    },
    {
      "cell_type": "code",
      "source": [
        "# Calculo la probabilidad de que la media muestral sea menor que 32\n",
        "probabilidad = norm.cdf(32, loc=media_poblacion, scale=desv_estandar)\n",
        "print(\"Probabilidad de que la media muestral sea menor que 32:\", probabilidad)"
      ],
      "metadata": {
        "colab": {
          "base_uri": "https://localhost:8080/"
        },
        "id": "BADBQCnccDgm",
        "outputId": "c113a7db-ee6f-423a-b710-f5d6fe628b08"
      },
      "execution_count": null,
      "outputs": [
        {
          "output_type": "stream",
          "name": "stdout",
          "text": [
            "Probabilidad de que la media muestral sea menor que 32: 0.03854993587177085\n"
          ]
        }
      ]
    },
    {
      "cell_type": "markdown",
      "source": [
        "#### La probabilidad de que la media de una muestra aleatoria de 50 personas sea menor de 32 años es de: 0.0385"
      ],
      "metadata": {
        "id": "qDP8psxEqSpQ"
      }
    },
    {
      "cell_type": "markdown",
      "source": [
        "## 2. Se desea estimar la altura promedio de los árboles en un bosque, con un margen de error de 5 centímetros y un nivel de confianza del 99%. Se sabe que la desviación estándar de las alturas de los árboles en ese bosque es de 10 centímetros. ¿Cuál es el tamaño de muestra mínimo necesario? Responde de manera completa.\n"
      ],
      "metadata": {
        "id": "6b0yjK-ocyCZ"
      }
    },
    {
      "cell_type": "code",
      "source": [
        "import scipy.stats as stats"
      ],
      "metadata": {
        "id": "3eNk7m3Ic6RI"
      },
      "execution_count": null,
      "outputs": []
    },
    {
      "cell_type": "code",
      "source": [
        "# Defino los datos del problema\n",
        "sigma = 10\n",
        "e = 5\n",
        "alpha = 0.01"
      ],
      "metadata": {
        "id": "n7IyU46dekwt"
      },
      "execution_count": null,
      "outputs": []
    },
    {
      "cell_type": "code",
      "source": [
        "# Calculo el valor crítico Z\n",
        "z = stats.norm.ppf(1 - alpha/2)"
      ],
      "metadata": {
        "id": "A9GO5RtEfFyE"
      },
      "execution_count": null,
      "outputs": []
    },
    {
      "cell_type": "code",
      "source": [
        "# Calculo el tamaño de muestra\n",
        "tamaño_muestra = (z* sigma / e)**2"
      ],
      "metadata": {
        "id": "hjREhntbfNk1"
      },
      "execution_count": null,
      "outputs": []
    },
    {
      "cell_type": "code",
      "source": [
        "print(\"El tamaño de muestra mínimo necesario es:\", round(tamaño_muestra))"
      ],
      "metadata": {
        "colab": {
          "base_uri": "https://localhost:8080/"
        },
        "id": "ceR24XSafXyo",
        "outputId": "7bf2d0e5-47ec-4871-9a52-385697c7e0fe"
      },
      "execution_count": null,
      "outputs": [
        {
          "output_type": "stream",
          "name": "stdout",
          "text": [
            "El tamaño de muestra mínimo necesario es: 27\n"
          ]
        }
      ]
    },
    {
      "cell_type": "markdown",
      "source": [
        "####  El tamaño de muestra mínimo necesario para estimar la altura promedio de los árboles en el bosque, con un margen de error de 5 centímetros y un nivel de confianza del 99%, es de 27 árboles. Al medir al menos 27 árboles, se puede asegurar al 99% de que la estimación de la altura promedio de los árboles no se alejará más de 5 cm de la verdadera media."
      ],
      "metadata": {
        "id": "nTCVzam2gFCz"
      }
    },
    {
      "cell_type": "markdown",
      "source": [
        "## 3. Se desea estimar el peso promedio de los paquetes enviados por una empresa de paquetería, con un margen de error de 0.5 kilogramos y un nivel de confianza del 99%. Se sabe que la desviación estándar de los pesos de los paquetes es de 1.2 kilogramos y que la empresa envía aproximadamente 5000 paquetes por día. ¿Cuál es el tamaño de muestra mínimo necesario para realizar **este** estudio? Responde de manera completa."
      ],
      "metadata": {
        "id": "8Wh12Oldgg86"
      }
    },
    {
      "cell_type": "code",
      "source": [
        "# Defino los parámetros del problema\n",
        "envios = 5000\n",
        "sigma = 1.2\n",
        "e = 0.5\n",
        "alpha = 0.01"
      ],
      "metadata": {
        "id": "KeIZtjPzgVAy"
      },
      "execution_count": null,
      "outputs": []
    },
    {
      "cell_type": "code",
      "source": [
        "# Calculo el valor crítico Z\n",
        "z = stats.norm.ppf(1 - alpha/2)"
      ],
      "metadata": {
        "id": "DNLWZD6Fhlnn"
      },
      "execution_count": null,
      "outputs": []
    },
    {
      "cell_type": "code",
      "source": [
        "# Calculo el tamaño de muestra\n",
        "tamaño_muestra = (envios * z**2 * sigma**2) / (e**2 * (envios-1) + z**2 * sigma**2)"
      ],
      "metadata": {
        "id": "VzA_sMqHhtzl"
      },
      "execution_count": null,
      "outputs": []
    },
    {
      "cell_type": "code",
      "source": [
        "print(\"El tamaño de muestra mínimo necesario para realizar este estudio es:\", round(tamaño_muestra))"
      ],
      "metadata": {
        "colab": {
          "base_uri": "https://localhost:8080/"
        },
        "id": "CCD-nqEjh69X",
        "outputId": "bd5ba53c-fbf2-4613-839f-3bceef3f5bdb"
      },
      "execution_count": null,
      "outputs": [
        {
          "output_type": "stream",
          "name": "stdout",
          "text": [
            "El tamaño de muestra mínimo necesario para realizar este estudio es: 38\n"
          ]
        }
      ]
    },
    {
      "cell_type": "markdown",
      "source": [
        "#### Al medir al menos 38 paquetes, la empresa puede estar segura al 99% de que su estimación del peso promedio de los paquetes no se alejará más de 0.5 kg de la verdadera media. Dado que la empresa envía aproximadamente 5000 paquetes por día, un tamaño de muestra de 38 es factible para obtener una estimación precisa."
      ],
      "metadata": {
        "id": "cuA8o57ViPW9"
      }
    },
    {
      "cell_type": "markdown",
      "source": [
        "## 4. Una organización sin fines de lucro se dedica a recolectar donaciones de alimentos no perecederos para distribuirlos a familias necesitadas. En una campaña reciente, se recolectaron datos sobre el peso (en kilogramos) de cada donación. Se desea estimar el peso promedio de las donaciones con un intervalo de confianza del 95% y realizar una prueba de hipótesis para determinar si el peso promedio es superior a 5 kilogramos."
      ],
      "metadata": {
        "id": "1hwyD6cdid8w"
      }
    },
    {
      "cell_type": "code",
      "source": [
        "# Generar 1000 datos aleatorios de peso entre 1 y 10 kilogramos\n",
        "pesos = np.random.uniform(1, 10, 1000)\n",
        "# Crear un DataFrame de pandas\n",
        "df = pd.DataFrame({'Peso': pesos})"
      ],
      "metadata": {
        "id": "I7k87mFOiqt6"
      },
      "execution_count": null,
      "outputs": []
    },
    {
      "cell_type": "code",
      "source": [
        "df.head()"
      ],
      "metadata": {
        "colab": {
          "base_uri": "https://localhost:8080/",
          "height": 206
        },
        "id": "-YCGvYlukLYI",
        "outputId": "e2b1c638-a3f4-4471-f9a5-74821aea1af4"
      },
      "execution_count": null,
      "outputs": [
        {
          "output_type": "execute_result",
          "data": {
            "text/plain": [
              "       Peso\n",
              "0  3.950503\n",
              "1  9.929343\n",
              "2  6.271341\n",
              "3  1.180697\n",
              "4  2.504846"
            ],
            "text/html": [
              "\n",
              "  <div id=\"df-b56e5009-2b78-48a1-b063-0cced81d1ea9\" class=\"colab-df-container\">\n",
              "    <div>\n",
              "<style scoped>\n",
              "    .dataframe tbody tr th:only-of-type {\n",
              "        vertical-align: middle;\n",
              "    }\n",
              "\n",
              "    .dataframe tbody tr th {\n",
              "        vertical-align: top;\n",
              "    }\n",
              "\n",
              "    .dataframe thead th {\n",
              "        text-align: right;\n",
              "    }\n",
              "</style>\n",
              "<table border=\"1\" class=\"dataframe\">\n",
              "  <thead>\n",
              "    <tr style=\"text-align: right;\">\n",
              "      <th></th>\n",
              "      <th>Peso</th>\n",
              "    </tr>\n",
              "  </thead>\n",
              "  <tbody>\n",
              "    <tr>\n",
              "      <th>0</th>\n",
              "      <td>3.950503</td>\n",
              "    </tr>\n",
              "    <tr>\n",
              "      <th>1</th>\n",
              "      <td>9.929343</td>\n",
              "    </tr>\n",
              "    <tr>\n",
              "      <th>2</th>\n",
              "      <td>6.271341</td>\n",
              "    </tr>\n",
              "    <tr>\n",
              "      <th>3</th>\n",
              "      <td>1.180697</td>\n",
              "    </tr>\n",
              "    <tr>\n",
              "      <th>4</th>\n",
              "      <td>2.504846</td>\n",
              "    </tr>\n",
              "  </tbody>\n",
              "</table>\n",
              "</div>\n",
              "    <div class=\"colab-df-buttons\">\n",
              "\n",
              "  <div class=\"colab-df-container\">\n",
              "    <button class=\"colab-df-convert\" onclick=\"convertToInteractive('df-b56e5009-2b78-48a1-b063-0cced81d1ea9')\"\n",
              "            title=\"Convert this dataframe to an interactive table.\"\n",
              "            style=\"display:none;\">\n",
              "\n",
              "  <svg xmlns=\"http://www.w3.org/2000/svg\" height=\"24px\" viewBox=\"0 -960 960 960\">\n",
              "    <path d=\"M120-120v-720h720v720H120Zm60-500h600v-160H180v160Zm220 220h160v-160H400v160Zm0 220h160v-160H400v160ZM180-400h160v-160H180v160Zm440 0h160v-160H620v160ZM180-180h160v-160H180v160Zm440 0h160v-160H620v160Z\"/>\n",
              "  </svg>\n",
              "    </button>\n",
              "\n",
              "  <style>\n",
              "    .colab-df-container {\n",
              "      display:flex;\n",
              "      gap: 12px;\n",
              "    }\n",
              "\n",
              "    .colab-df-convert {\n",
              "      background-color: #E8F0FE;\n",
              "      border: none;\n",
              "      border-radius: 50%;\n",
              "      cursor: pointer;\n",
              "      display: none;\n",
              "      fill: #1967D2;\n",
              "      height: 32px;\n",
              "      padding: 0 0 0 0;\n",
              "      width: 32px;\n",
              "    }\n",
              "\n",
              "    .colab-df-convert:hover {\n",
              "      background-color: #E2EBFA;\n",
              "      box-shadow: 0px 1px 2px rgba(60, 64, 67, 0.3), 0px 1px 3px 1px rgba(60, 64, 67, 0.15);\n",
              "      fill: #174EA6;\n",
              "    }\n",
              "\n",
              "    .colab-df-buttons div {\n",
              "      margin-bottom: 4px;\n",
              "    }\n",
              "\n",
              "    [theme=dark] .colab-df-convert {\n",
              "      background-color: #3B4455;\n",
              "      fill: #D2E3FC;\n",
              "    }\n",
              "\n",
              "    [theme=dark] .colab-df-convert:hover {\n",
              "      background-color: #434B5C;\n",
              "      box-shadow: 0px 1px 3px 1px rgba(0, 0, 0, 0.15);\n",
              "      filter: drop-shadow(0px 1px 2px rgba(0, 0, 0, 0.3));\n",
              "      fill: #FFFFFF;\n",
              "    }\n",
              "  </style>\n",
              "\n",
              "    <script>\n",
              "      const buttonEl =\n",
              "        document.querySelector('#df-b56e5009-2b78-48a1-b063-0cced81d1ea9 button.colab-df-convert');\n",
              "      buttonEl.style.display =\n",
              "        google.colab.kernel.accessAllowed ? 'block' : 'none';\n",
              "\n",
              "      async function convertToInteractive(key) {\n",
              "        const element = document.querySelector('#df-b56e5009-2b78-48a1-b063-0cced81d1ea9');\n",
              "        const dataTable =\n",
              "          await google.colab.kernel.invokeFunction('convertToInteractive',\n",
              "                                                    [key], {});\n",
              "        if (!dataTable) return;\n",
              "\n",
              "        const docLinkHtml = 'Like what you see? Visit the ' +\n",
              "          '<a target=\"_blank\" href=https://colab.research.google.com/notebooks/data_table.ipynb>data table notebook</a>'\n",
              "          + ' to learn more about interactive tables.';\n",
              "        element.innerHTML = '';\n",
              "        dataTable['output_type'] = 'display_data';\n",
              "        await google.colab.output.renderOutput(dataTable, element);\n",
              "        const docLink = document.createElement('div');\n",
              "        docLink.innerHTML = docLinkHtml;\n",
              "        element.appendChild(docLink);\n",
              "      }\n",
              "    </script>\n",
              "  </div>\n",
              "\n",
              "\n",
              "<div id=\"df-d6ffd28e-e548-42be-9e07-b7455f3365e9\">\n",
              "  <button class=\"colab-df-quickchart\" onclick=\"quickchart('df-d6ffd28e-e548-42be-9e07-b7455f3365e9')\"\n",
              "            title=\"Suggest charts\"\n",
              "            style=\"display:none;\">\n",
              "\n",
              "<svg xmlns=\"http://www.w3.org/2000/svg\" height=\"24px\"viewBox=\"0 0 24 24\"\n",
              "     width=\"24px\">\n",
              "    <g>\n",
              "        <path d=\"M19 3H5c-1.1 0-2 .9-2 2v14c0 1.1.9 2 2 2h14c1.1 0 2-.9 2-2V5c0-1.1-.9-2-2-2zM9 17H7v-7h2v7zm4 0h-2V7h2v10zm4 0h-2v-4h2v4z\"/>\n",
              "    </g>\n",
              "</svg>\n",
              "  </button>\n",
              "\n",
              "<style>\n",
              "  .colab-df-quickchart {\n",
              "      --bg-color: #E8F0FE;\n",
              "      --fill-color: #1967D2;\n",
              "      --hover-bg-color: #E2EBFA;\n",
              "      --hover-fill-color: #174EA6;\n",
              "      --disabled-fill-color: #AAA;\n",
              "      --disabled-bg-color: #DDD;\n",
              "  }\n",
              "\n",
              "  [theme=dark] .colab-df-quickchart {\n",
              "      --bg-color: #3B4455;\n",
              "      --fill-color: #D2E3FC;\n",
              "      --hover-bg-color: #434B5C;\n",
              "      --hover-fill-color: #FFFFFF;\n",
              "      --disabled-bg-color: #3B4455;\n",
              "      --disabled-fill-color: #666;\n",
              "  }\n",
              "\n",
              "  .colab-df-quickchart {\n",
              "    background-color: var(--bg-color);\n",
              "    border: none;\n",
              "    border-radius: 50%;\n",
              "    cursor: pointer;\n",
              "    display: none;\n",
              "    fill: var(--fill-color);\n",
              "    height: 32px;\n",
              "    padding: 0;\n",
              "    width: 32px;\n",
              "  }\n",
              "\n",
              "  .colab-df-quickchart:hover {\n",
              "    background-color: var(--hover-bg-color);\n",
              "    box-shadow: 0 1px 2px rgba(60, 64, 67, 0.3), 0 1px 3px 1px rgba(60, 64, 67, 0.15);\n",
              "    fill: var(--button-hover-fill-color);\n",
              "  }\n",
              "\n",
              "  .colab-df-quickchart-complete:disabled,\n",
              "  .colab-df-quickchart-complete:disabled:hover {\n",
              "    background-color: var(--disabled-bg-color);\n",
              "    fill: var(--disabled-fill-color);\n",
              "    box-shadow: none;\n",
              "  }\n",
              "\n",
              "  .colab-df-spinner {\n",
              "    border: 2px solid var(--fill-color);\n",
              "    border-color: transparent;\n",
              "    border-bottom-color: var(--fill-color);\n",
              "    animation:\n",
              "      spin 1s steps(1) infinite;\n",
              "  }\n",
              "\n",
              "  @keyframes spin {\n",
              "    0% {\n",
              "      border-color: transparent;\n",
              "      border-bottom-color: var(--fill-color);\n",
              "      border-left-color: var(--fill-color);\n",
              "    }\n",
              "    20% {\n",
              "      border-color: transparent;\n",
              "      border-left-color: var(--fill-color);\n",
              "      border-top-color: var(--fill-color);\n",
              "    }\n",
              "    30% {\n",
              "      border-color: transparent;\n",
              "      border-left-color: var(--fill-color);\n",
              "      border-top-color: var(--fill-color);\n",
              "      border-right-color: var(--fill-color);\n",
              "    }\n",
              "    40% {\n",
              "      border-color: transparent;\n",
              "      border-right-color: var(--fill-color);\n",
              "      border-top-color: var(--fill-color);\n",
              "    }\n",
              "    60% {\n",
              "      border-color: transparent;\n",
              "      border-right-color: var(--fill-color);\n",
              "    }\n",
              "    80% {\n",
              "      border-color: transparent;\n",
              "      border-right-color: var(--fill-color);\n",
              "      border-bottom-color: var(--fill-color);\n",
              "    }\n",
              "    90% {\n",
              "      border-color: transparent;\n",
              "      border-bottom-color: var(--fill-color);\n",
              "    }\n",
              "  }\n",
              "</style>\n",
              "\n",
              "  <script>\n",
              "    async function quickchart(key) {\n",
              "      const quickchartButtonEl =\n",
              "        document.querySelector('#' + key + ' button');\n",
              "      quickchartButtonEl.disabled = true;  // To prevent multiple clicks.\n",
              "      quickchartButtonEl.classList.add('colab-df-spinner');\n",
              "      try {\n",
              "        const charts = await google.colab.kernel.invokeFunction(\n",
              "            'suggestCharts', [key], {});\n",
              "      } catch (error) {\n",
              "        console.error('Error during call to suggestCharts:', error);\n",
              "      }\n",
              "      quickchartButtonEl.classList.remove('colab-df-spinner');\n",
              "      quickchartButtonEl.classList.add('colab-df-quickchart-complete');\n",
              "    }\n",
              "    (() => {\n",
              "      let quickchartButtonEl =\n",
              "        document.querySelector('#df-d6ffd28e-e548-42be-9e07-b7455f3365e9 button');\n",
              "      quickchartButtonEl.style.display =\n",
              "        google.colab.kernel.accessAllowed ? 'block' : 'none';\n",
              "    })();\n",
              "  </script>\n",
              "</div>\n",
              "\n",
              "    </div>\n",
              "  </div>\n"
            ],
            "application/vnd.google.colaboratory.intrinsic+json": {
              "type": "dataframe",
              "variable_name": "df",
              "summary": "{\n  \"name\": \"df\",\n  \"rows\": 1000,\n  \"fields\": [\n    {\n      \"column\": \"Peso\",\n      \"properties\": {\n        \"dtype\": \"number\",\n        \"std\": 2.6115516353768795,\n        \"min\": 1.0019351995610284,\n        \"max\": 9.992845832688145,\n        \"num_unique_values\": 1000,\n        \"samples\": [\n          4.0032808677060014,\n          6.919674668174001,\n          1.787415979639824\n        ],\n        \"semantic_type\": \"\",\n        \"description\": \"\"\n      }\n    }\n  ]\n}"
            }
          },
          "metadata": {},
          "execution_count": 43
        }
      ]
    },
    {
      "cell_type": "markdown",
      "source": [
        "####  Para este ejercico necesito calcular el intervalo de confianza para el peso promedio de las donaciones y realizar una prueba de hipótesis para determinar si el peso promedio es superior a 5 kilogramos."
      ],
      "metadata": {
        "id": "A8EvR5HYkgBE"
      }
    },
    {
      "cell_type": "code",
      "source": [
        "# Calculo la media y la desviación estándar\n",
        "media = np.mean(pesos)\n",
        "desviacion_estandar = np.std(pesos)\n",
        "tamaño_muestra = len(pesos)"
      ],
      "metadata": {
        "id": "uj3iLuIZkinM"
      },
      "execution_count": null,
      "outputs": []
    },
    {
      "cell_type": "code",
      "source": [
        "# Ahora calculo el intervalo de confianza\n",
        "z = 1.96  # valor crítico para 95%\n",
        "margen_error = z * (desviacion_estandar / np.sqrt(tamaño_muestra))\n",
        "intervalo_confianza = (media - margen_error, media + margen_error)\n",
        "print(f\"Intervalo de confianza del 95%: {intervalo_confianza}\")"
      ],
      "metadata": {
        "colab": {
          "base_uri": "https://localhost:8080/"
        },
        "id": "yxM51f_MlDAn",
        "outputId": "1799e078-5831-4f97-8d11-139e91a0020d"
      },
      "execution_count": null,
      "outputs": [
        {
          "output_type": "stream",
          "name": "stdout",
          "text": [
            "Intervalo de confianza del 95%: (5.471234967913823, 5.794804356461022)\n"
          ]
        }
      ]
    },
    {
      "cell_type": "code",
      "source": [
        "# Genero mi prueba de hipótesis\n",
        "valor_hipotesis_nula = 5\n",
        "t_statistic = (media - valor_hipotesis_nula) / (desviacion_estandar / np.sqrt(tamaño_muestra))\n",
        "df = tamaño_muestra - 1"
      ],
      "metadata": {
        "id": "PI8SsYoxls4R"
      },
      "execution_count": null,
      "outputs": []
    },
    {
      "cell_type": "code",
      "source": [
        "# Calculo el valor p\n",
        "valor_p = 1 - stats.t.cdf(t_statistic, df)\n",
        "print(f\"Valor p: {valor_p}\")"
      ],
      "metadata": {
        "colab": {
          "base_uri": "https://localhost:8080/"
        },
        "id": "-_yzV5V5mS2p",
        "outputId": "472f95e7-91db-4181-b97e-c988744951de"
      },
      "execution_count": null,
      "outputs": [
        {
          "output_type": "stream",
          "name": "stdout",
          "text": [
            "Valor p: 2.0539125955565396e-14\n"
          ]
        }
      ]
    },
    {
      "cell_type": "code",
      "source": [
        "# Comparo el valor_p con el nivel de significancia para tomar una decisión.\n",
        "alpha = 0.05\n",
        "if valor_p < alpha:\n",
        "    print(\"Se rechaza la hipótesis nula. Hay evidencia suficiente para afirmar que el peso promedio es superior a 5 kg.\")\n",
        "else:\n",
        "    print(\"No se rechaza la hipótesis nula. No hay evidencia suficiente para afirmar que el peso promedio es superior a 5 kg.\")"
      ],
      "metadata": {
        "colab": {
          "base_uri": "https://localhost:8080/"
        },
        "id": "p-LvOL45mqBO",
        "outputId": "a09d33c1-5d61-4c60-b961-f5b0bed9902c"
      },
      "execution_count": null,
      "outputs": [
        {
          "output_type": "stream",
          "name": "stdout",
          "text": [
            "Se rechaza la hipótesis nula. Hay evidencia suficiente para afirmar que el peso promedio es superior a 5 kg.\n"
          ]
        }
      ]
    },
    {
      "cell_type": "code",
      "source": [
        "# Para ver el peso promedio de las donaciones con un intervalo de confianza del 95 calculo los límites del intervalo de confianza\n",
        "limite_inferior = media - margen_error\n",
        "limite_superior = media + margen_error\n",
        "print(f\"El peso promedio de las donaciones con un intervalo de confianza del 95% es entre {limite_inferior:.2f} kg y {limite_superior:.2f} kg.\")\n",
        "print(f\"Peso promedio de las donaciones: {media:.2f} kg\")"
      ],
      "metadata": {
        "colab": {
          "base_uri": "https://localhost:8080/"
        },
        "id": "JzYITtoUoWFz",
        "outputId": "e1b0b307-cbf0-4478-83ee-349411511922"
      },
      "execution_count": null,
      "outputs": [
        {
          "output_type": "stream",
          "name": "stdout",
          "text": [
            "El peso promedio de las donaciones con un intervalo de confianza del 95% es entre 5.47 kg y 5.79 kg.\n",
            "Peso promedio de las donaciones: 5.63 kg\n"
          ]
        }
      ]
    },
    {
      "cell_type": "markdown",
      "source": [
        "### Con la resolución de este ejercicio puedo estimar que el el peso promedio de las donaciones con un intervalo de confianza del 95% es de **5.63 kg**. Al realizar la prueba de hipótesis pude determinar que el peso promedio si es superior a 5 kilogramos."
      ],
      "metadata": {
        "id": "lQKwSO0Ao6Hz"
      }
    }
  ]
}